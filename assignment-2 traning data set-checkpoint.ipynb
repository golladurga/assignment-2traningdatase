{
 "cells": [
  {
   "cell_type": "code",
   "execution_count": 4,
   "id": "376c765b",
   "metadata": {},
   "outputs": [
    {
     "name": "stdout",
     "output_type": "stream",
     "text": [
      "Mean Squared Error: 50976036.936255686\n",
      "R-squared: 0.986650226034704\n"
     ]
    }
   ],
   "source": [
    "# Import necessary libraries\n",
    "import pandas as pd  # For data manipulation and analysis\n",
    "from sklearn.model_selection import train_test_split  # To split data into training and testing sets\n",
    "from sklearn.linear_model import LinearRegression  # To build a linear regression model\n",
    "from sklearn.metrics import mean_squared_error, r2_score  # For model evaluation\n",
    "from sklearn.preprocessing import StandardScaler  # For feature scaling\n",
    "import numpy as np  # For numerical operations\n",
    "\n",
    "# Load the dataset\n",
    "data = pd.read_csv(r\"C:\\Users\\dell\\Downloads\\train_set (1).csv \")\n",
    "\n",
    "# Select relevant features and target variable\n",
    "features = ['Salaries', 'Overtime', 'H/D']  # Features used for prediction\n",
    "target = 'Total_Compensation'  # Target variable to predict\n",
    "\n",
    "X = data[features]  # Features\n",
    "y = data[target]  # Target variable\n",
    "\n",
    "# Handle outliers\n",
    "def remove_outliers(df, columns):\n",
    "    for col in columns:\n",
    "        q1 = df[col].quantile(0.25)  # 1st quartile\n",
    "        q3 = df[col].quantile(0.75)  # 3rd quartile\n",
    "        iqr = q3 - q1  # Interquartile range\n",
    "        lower_bound = q1 - 1.5 * iqr  # Lower bound for outliers\n",
    "        upper_bound = q3 + 1.5 * iqr  # Upper bound for outliers\n",
    "        df = df[(df[col] >= lower_bound) & (df[col] <= upper_bound)]  # Filter outliers\n",
    "    return df\n",
    "\n",
    "data = remove_outliers(data, features + [target])  # Remove outliers from the dataset\n",
    "\n",
    "X = data[features]  # Update features after removing outliers\n",
    "y = data[target]  # Update target variable after removing outliers\n",
    "\n",
    "# Split the data into training and testing sets\n",
    "X_train, X_test, y_train, y_test = train_test_split(X, y, test_size=0.2, random_state=42)\n",
    "\n",
    "# Standardize features (optional but often recommended)\n",
    "scaler = StandardScaler()  # Initialize the feature scaler\n",
    "X_train = scaler.fit_transform(X_train)  # Scale features for training data\n",
    "X_test = scaler.transform(X_test)  # Scale features for testing data\n",
    "\n",
    "# Build and train a Linear Regression model\n",
    "model = LinearRegression()  # Create a linear regression model\n",
    "model.fit(X_train, y_train)  # Train the model on the training data\n",
    "\n",
    "# Make predictions\n",
    "y_pred = model.predict(X_test)  # Use the trained model to make predictions on the test data\n",
    "\n",
    "# Evaluate the model\n",
    "mse = mean_squared_error(y_test, y_pred)  # Calculate mean squared error\n",
    "r2 = r2_score(y_test, y_pred)  # Calculate R-squared\n",
    "\n",
    "print(\"Mean Squared Error:\", mse)  # Print mean squared error\n",
    "print(\"R-squared:\", r2)  # Print R-squared\n",
    "\n",
    "# Add estimated Total Compensation to the dataset\n",
    "data['Estimated_Total_Compensation'] = model.predict(scaler.transform(data[features]))\n",
    "\n",
    "# Save the updated dataset with estimated values\n",
    "data.to_csv(r\"C:\\Users\\dell\\Downloads\\updated_dataset.csv\", index=False)\n"
   ]
  },
  {
   "cell_type": "code",
   "execution_count": null,
   "id": "8f072a39",
   "metadata": {},
   "outputs": [],
   "source": []
  }
 ],
 "metadata": {
  "kernelspec": {
   "display_name": "Python 3 (ipykernel)",
   "language": "python",
   "name": "python3"
  },
  "language_info": {
   "codemirror_mode": {
    "name": "ipython",
    "version": 3
   },
   "file_extension": ".py",
   "mimetype": "text/x-python",
   "name": "python",
   "nbconvert_exporter": "python",
   "pygments_lexer": "ipython3",
   "version": "3.10.9"
  }
 },
 "nbformat": 4,
 "nbformat_minor": 5
}
